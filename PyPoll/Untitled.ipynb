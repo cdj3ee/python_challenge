{
 "cells": [
  {
   "cell_type": "code",
   "execution_count": 1,
   "id": "46679a36",
   "metadata": {},
   "outputs": [],
   "source": [
    "##Import programs\n",
    "import os\n",
    "import csv\n",
    "\n",
    "##Assign variables\n",
    "ballot_id = []\n",
    "all_candidates = []\n",
    "percentages = []\n",
    "counts = []\n",
    "\n",
    "##Open CSV and assign name, skip header row, assign columns\n",
    "with open('C:\\\\Users\\\\cdj3e\\\\vu_bootcamp\\\\Python\\\\Module_3_Challenge\\\\python_challenge\\\\PyPoll\\\\resources\\\\election_data.csv', \"r\") as election_analysis:\n",
    "    reader = csv.reader(election_analysis)\n",
    "    next(reader)\n",
    "    for row in reader:\n",
    "        ballot_id.append(row[0])\n",
    "        all_candidates.append(row[2])\n",
    "\n",
    "##List all unique candidates\n",
    "candidate = list(set(all_candidates))\n",
    "\n",
    "##Find total number of votes\n",
    "total_votes = len(ballot_id)"
   ]
  },
  {
   "cell_type": "code",
   "execution_count": 4,
   "id": "cd4f9782",
   "metadata": {},
   "outputs": [
    {
     "data": {
      "text/plain": [
       "15"
      ]
     },
     "execution_count": 4,
     "metadata": {},
     "output_type": "execute_result"
    }
   ],
   "source": [
    "len(set(candidate))"
   ]
  },
  {
   "cell_type": "code",
   "execution_count": null,
   "id": "6ec5f8d5",
   "metadata": {},
   "outputs": [],
   "source": [
    "conda install -c conda-forge tqdm"
   ]
  },
  {
   "cell_type": "code",
   "execution_count": 2,
   "id": "df9f43a1",
   "metadata": {},
   "outputs": [
    {
     "ename": "KeyboardInterrupt",
     "evalue": "",
     "output_type": "error",
     "traceback": [
      "\u001b[1;31m---------------------------------------------------------------------------\u001b[0m",
      "\u001b[1;31mKeyboardInterrupt\u001b[0m                         Traceback (most recent call last)",
      "Cell \u001b[1;32mIn[2], line 5\u001b[0m\n\u001b[0;32m      3\u001b[0m count \u001b[38;5;241m=\u001b[39m all_candidates\u001b[38;5;241m.\u001b[39mcount(candidate)\n\u001b[0;32m      4\u001b[0m \u001b[38;5;66;03m##print(count)\u001b[39;00m\n\u001b[1;32m----> 5\u001b[0m percent \u001b[38;5;241m=\u001b[39m \u001b[38;5;28;43mround\u001b[39;49m\u001b[43m(\u001b[49m\u001b[43m(\u001b[49m\u001b[43mcount\u001b[49m\u001b[43m \u001b[49m\u001b[38;5;241;43m/\u001b[39;49m\u001b[43m \u001b[49m\u001b[43mtotal_votes\u001b[49m\u001b[43m)\u001b[49m\u001b[43m \u001b[49m\u001b[38;5;241;43m*\u001b[39;49m\u001b[43m \u001b[49m\u001b[38;5;241;43m100\u001b[39;49m\u001b[43m,\u001b[49m\u001b[43m \u001b[49m\u001b[38;5;241;43m3\u001b[39;49m\u001b[43m)\u001b[49m\n\u001b[0;32m      6\u001b[0m counts\u001b[38;5;241m.\u001b[39mappend(count)\n\u001b[0;32m      7\u001b[0m \u001b[38;5;66;03m##print(len(counts))\u001b[39;00m\n",
      "\u001b[1;31mKeyboardInterrupt\u001b[0m: "
     ]
    }
   ],
   "source": [
    "for candidate in (all_candidates):\n",
    "    ##print(candidate)\n",
    "    count = all_candidates.count(candidate)\n",
    "    ##print(count)\n",
    "    percent = round((count / total_votes) * 100, 3)\n",
    "    counts.append(count)\n",
    "    ##print(len(counts))\n",
    "    percentages.append(percent)\n",
    "    "
   ]
  },
  {
   "cell_type": "code",
   "execution_count": null,
   "id": "95b29401",
   "metadata": {},
   "outputs": [],
   "source": [
    "for i in range(len(candidate)):\n",
    "    print(f\"{candidate[i]}: {percentages[i]}% ({counts[i]})\")"
   ]
  }
 ],
 "metadata": {
  "kernelspec": {
   "display_name": "Python 3 (ipykernel)",
   "language": "python",
   "name": "python3"
  },
  "language_info": {
   "codemirror_mode": {
    "name": "ipython",
    "version": 3
   },
   "file_extension": ".py",
   "mimetype": "text/x-python",
   "name": "python",
   "nbconvert_exporter": "python",
   "pygments_lexer": "ipython3",
   "version": "3.10.13"
  }
 },
 "nbformat": 4,
 "nbformat_minor": 5
}
