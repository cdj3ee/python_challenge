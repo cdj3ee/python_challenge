{
 "cells": [
  {
   "cell_type": "code",
   "execution_count": 1,
   "id": "b37f6cc6",
   "metadata": {},
   "outputs": [],
   "source": [
    "import os\n",
    "import csv"
   ]
  },
  {
   "cell_type": "code",
   "execution_count": 3,
   "id": "c4264044",
   "metadata": {},
   "outputs": [],
   "source": [
    "date = []\n",
    "profits = []\n",
    "profit_change = []"
   ]
  },
  {
   "cell_type": "code",
   "execution_count": 4,
   "id": "13fd82ac",
   "metadata": {},
   "outputs": [],
   "source": [
    "with open('C:\\\\Users\\\\cdj3e\\\\vu_bootcamp\\\\Python\\\\Module_3_Challenge\\\\python_challenge\\\\PyBank\\\\resources\\\\budget_data.csv', \"r\") as financial_analysis:\n",
    "    reader = csv.reader(financial_analysis)\n",
    "    next(reader)\n",
    "    for row in reader:\n",
    "        date.append(row[0])\n",
    "        profits.append(float(row[1]))"
   ]
  },
  {
   "cell_type": "code",
   "execution_count": 7,
   "id": "d66d9a1a",
   "metadata": {},
   "outputs": [],
   "source": [
    "for i in range(1, len(profits)):\n",
    "    profit_change.append(profits[i] - profits[i-1])\n",
    "    average_change = sum(profit_change)/len(profit_change)"
   ]
  },
  {
   "cell_type": "code",
   "execution_count": 11,
   "id": "aba94edf",
   "metadata": {},
   "outputs": [
    {
     "name": "stdout",
     "output_type": "stream",
     "text": [
      "1862002.0\n",
      "-1825558.0\n"
     ]
    }
   ],
   "source": [
    "max_change = max(profit_change)\n",
    "min_change = min(profit_change)\n",
    "print(max_change)\n",
    "print(min_change)"
   ]
  },
  {
   "cell_type": "code",
   "execution_count": 14,
   "id": "71a777e3",
   "metadata": {},
   "outputs": [
    {
     "name": "stdout",
     "output_type": "stream",
     "text": [
      "Aug-16\n",
      "Feb-14\n"
     ]
    }
   ],
   "source": [
    "max_date = str(date[profit_change.index(max_change)+1])\n",
    "min_date = str(date[profit_change.index(min_change)+1])\n",
    "print(max_date)\n",
    "print(min_date)"
   ]
  },
  {
   "cell_type": "code",
   "execution_count": null,
   "id": "c4d34598",
   "metadata": {},
   "outputs": [],
   "source": []
  }
 ],
 "metadata": {
  "kernelspec": {
   "display_name": "Python 3 (ipykernel)",
   "language": "python",
   "name": "python3"
  },
  "language_info": {
   "codemirror_mode": {
    "name": "ipython",
    "version": 3
   },
   "file_extension": ".py",
   "mimetype": "text/x-python",
   "name": "python",
   "nbconvert_exporter": "python",
   "pygments_lexer": "ipython3",
   "version": "3.10.13"
  }
 },
 "nbformat": 4,
 "nbformat_minor": 5
}
